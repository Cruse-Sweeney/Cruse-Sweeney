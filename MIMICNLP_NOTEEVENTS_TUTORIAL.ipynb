{
  "nbformat": 4,
  "nbformat_minor": 0,
  "metadata": {
    "colab": {
      "provenance": [],
      "include_colab_link": true
    },
    "kernelspec": {
      "name": "python3",
      "display_name": "Python 3"
    }
  },
  "cells": [
    {
      "cell_type": "markdown",
      "metadata": {
        "id": "view-in-github",
        "colab_type": "text"
      },
      "source": [
        "<a href=\"https://colab.research.google.com/github/Cruse-Sweeney/Cruse-Sweeney/blob/main/MIMICNLP_NOTEEVENTS_TUTORIAL.ipynb\" target=\"_parent\"><img src=\"https://colab.research.google.com/assets/colab-badge.svg\" alt=\"Open In Colab\"/></a>"
      ]
    },
    {
      "cell_type": "code",
      "metadata": {
        "id": "fzTpT58iwFKg"
      },
      "source": [
        "import pandas as pd"
      ],
      "execution_count": null,
      "outputs": []
    },
    {
      "cell_type": "markdown",
      "metadata": {
        "id": "MYiS8P9dCr69"
      },
      "source": [
        "# **Start by uploading the DIAGNOSES_ICD file and getting all patients for ICD_CODE=430**"
      ]
    },
    {
      "cell_type": "code",
      "metadata": {
        "id": "PpJneiQCwRLe"
      },
      "source": [
        "diagnoses_icd_df = pd.read_csv('/content/DIAGNOSES_ICD.csv.gz')\n",
        "diagnoses_icd_df.info()\n",
        "diagnoses_icd_df.iloc[0]\n",
        "print(len(diagnoses_icd_df))"
      ],
      "execution_count": null,
      "outputs": []
    },
    {
      "cell_type": "code",
      "metadata": {
        "colab": {
          "base_uri": "https://localhost:8080/"
        },
        "id": "vEOWAkwbwmDS",
        "outputId": "82a19e52-6e3b-42f3-9d03-1e070b8fd0ad"
      },
      "source": [
        "arr_subject_id=[]\n",
        "arr_hadm_id=[]\n",
        "for row in range(0, len(diagnoses_icd_df)):\n",
        "  if(diagnoses_icd_df.loc[row, 'ICD9_CODE']=='430'):\n",
        "    arr_subject_id.append(diagnoses_icd_df.loc[row, 'SUBJECT_ID'])\n",
        "\n",
        "    # print(diagnoses_icd_df.loc[row, 'SUBJECT_ID'])\n",
        "print('length of array is:',len(arr_subject_id))"
      ],
      "execution_count": null,
      "outputs": [
        {
          "output_type": "stream",
          "text": [
            "length of array is: 658\n"
          ],
          "name": "stdout"
        }
      ]
    },
    {
      "cell_type": "markdown",
      "metadata": {
        "id": "re5rKy4pFUE8"
      },
      "source": [
        "# **You can use one of the following ways to upload the NOTEEVENTS or any file in colab**"
      ]
    },
    {
      "cell_type": "markdown",
      "metadata": {
        "id": "fEXFAP4vGjuq"
      },
      "source": [
        "# **Method:1**"
      ]
    },
    {
      "cell_type": "code",
      "metadata": {
        "id": "6YyRNmaAFCr1"
      },
      "source": [
        "# upload file from local drive and open it for reading (NOTEEVENTS file)\n",
        "from google.colab import files\n",
        "uploaded = files.upload()"
      ],
      "execution_count": null,
      "outputs": []
    },
    {
      "cell_type": "code",
      "metadata": {
        "id": "bve_3HtyGcdL"
      },
      "source": [
        "# read the uploaded file in a dataframe\n",
        "noteevents_df = pd.read_csv('NOTEEVENTS.csv.gz')"
      ],
      "execution_count": null,
      "outputs": []
    },
    {
      "cell_type": "markdown",
      "metadata": {
        "id": "cIirbEIhGgc2"
      },
      "source": [
        "# **Method:2**"
      ]
    },
    {
      "cell_type": "code",
      "metadata": {
        "id": "UbarFU651RSV"
      },
      "source": [
        "noteevents_df = pd.read_csv('/content/NOTEEVENTS.csv.gz')\n",
        "noteevents_df.info()\n",
        "noteevents_df.iloc[0]"
      ],
      "execution_count": null,
      "outputs": []
    },
    {
      "cell_type": "markdown",
      "metadata": {
        "id": "g_5e6MZiGrju"
      },
      "source": [
        "# **Filter the data in files to create a new relevant dataframe**"
      ]
    },
    {
      "cell_type": "code",
      "metadata": {
        "id": "xPI1OnA_CY__"
      },
      "source": [
        "icd9_430_patients_discharge_summary_df = pd.DataFrame(columns=['SUBJECT_ID', 'CATEGORY', 'TEXT'])\n",
        "patients_dict = {\"SUBJECT_ID\":[],\"CATEGORY\":[],\"TEXT\":[]};"
      ],
      "execution_count": null,
      "outputs": []
    },
    {
      "cell_type": "code",
      "metadata": {
        "id": "k8O-Ubu6_mNt",
        "colab": {
          "base_uri": "https://localhost:8080/",
          "height": 232
        },
        "outputId": "032b4836-8326-4353-c224-f4477b328a46"
      },
      "source": [
        "for i in range(0, len(noteevents_df)):\n",
        "  if((noteevents_df.loc[i, 'SUBJECT_ID'] in arr_subject_id) and (noteevents_df.loc[i, 'CATEGORY'] == 'Social Work')):\n",
        "   patients_dict[\"SUBJECT_ID\"].append(noteevents_df.loc[i, 'SUBJECT_ID'])\n",
        "   patients_dict[\"CATEGORY\"].append(noteevents_df.loc[i, 'CATEGORY'])\n",
        "   patients_dict[\"TEXT\"].append(noteevents_df.loc[i, 'TEXT'])"
      ],
      "execution_count": null,
      "outputs": [
        {
          "output_type": "error",
          "ename": "NameError",
          "evalue": "ignored",
          "traceback": [
            "\u001b[0;31m---------------------------------------------------------------------------\u001b[0m",
            "\u001b[0;31mNameError\u001b[0m                                 Traceback (most recent call last)",
            "\u001b[0;32m<ipython-input-5-3088f93b0c57>\u001b[0m in \u001b[0;36m<module>\u001b[0;34m()\u001b[0m\n\u001b[0;32m----> 1\u001b[0;31m \u001b[0;32mfor\u001b[0m \u001b[0mi\u001b[0m \u001b[0;32min\u001b[0m \u001b[0mrange\u001b[0m\u001b[0;34m(\u001b[0m\u001b[0;36m0\u001b[0m\u001b[0;34m,\u001b[0m \u001b[0mlen\u001b[0m\u001b[0;34m(\u001b[0m\u001b[0mnoteevents_df\u001b[0m\u001b[0;34m)\u001b[0m\u001b[0;34m)\u001b[0m\u001b[0;34m:\u001b[0m\u001b[0;34m\u001b[0m\u001b[0;34m\u001b[0m\u001b[0m\n\u001b[0m\u001b[1;32m      2\u001b[0m   \u001b[0;32mif\u001b[0m\u001b[0;34m(\u001b[0m\u001b[0;34m(\u001b[0m\u001b[0mnoteevents_df\u001b[0m\u001b[0;34m.\u001b[0m\u001b[0mloc\u001b[0m\u001b[0;34m[\u001b[0m\u001b[0mi\u001b[0m\u001b[0;34m,\u001b[0m \u001b[0;34m'SUBJECT_ID'\u001b[0m\u001b[0;34m]\u001b[0m \u001b[0;32min\u001b[0m \u001b[0marr_subject_id\u001b[0m\u001b[0;34m)\u001b[0m \u001b[0;32mand\u001b[0m \u001b[0;34m(\u001b[0m\u001b[0mnoteevents_df\u001b[0m\u001b[0;34m.\u001b[0m\u001b[0mloc\u001b[0m\u001b[0;34m[\u001b[0m\u001b[0mi\u001b[0m\u001b[0;34m,\u001b[0m \u001b[0;34m'CATEGORY'\u001b[0m\u001b[0;34m]\u001b[0m \u001b[0;34m==\u001b[0m \u001b[0;34m'Social Work'\u001b[0m\u001b[0;34m)\u001b[0m\u001b[0;34m)\u001b[0m\u001b[0;34m:\u001b[0m\u001b[0;34m\u001b[0m\u001b[0;34m\u001b[0m\u001b[0m\n\u001b[1;32m      3\u001b[0m    \u001b[0mpatients_dict\u001b[0m\u001b[0;34m[\u001b[0m\u001b[0;34m\"SUBJECT_ID\"\u001b[0m\u001b[0;34m]\u001b[0m\u001b[0;34m.\u001b[0m\u001b[0mappend\u001b[0m\u001b[0;34m(\u001b[0m\u001b[0mnoteevents_df\u001b[0m\u001b[0;34m.\u001b[0m\u001b[0mloc\u001b[0m\u001b[0;34m[\u001b[0m\u001b[0mi\u001b[0m\u001b[0;34m,\u001b[0m \u001b[0;34m'SUBJECT_ID'\u001b[0m\u001b[0;34m]\u001b[0m\u001b[0;34m)\u001b[0m\u001b[0;34m\u001b[0m\u001b[0;34m\u001b[0m\u001b[0m\n\u001b[1;32m      4\u001b[0m    \u001b[0mpatients_dict\u001b[0m\u001b[0;34m[\u001b[0m\u001b[0;34m\"CATEGORY\"\u001b[0m\u001b[0;34m]\u001b[0m\u001b[0;34m.\u001b[0m\u001b[0mappend\u001b[0m\u001b[0;34m(\u001b[0m\u001b[0mnoteevents_df\u001b[0m\u001b[0;34m.\u001b[0m\u001b[0mloc\u001b[0m\u001b[0;34m[\u001b[0m\u001b[0mi\u001b[0m\u001b[0;34m,\u001b[0m \u001b[0;34m'CATEGORY'\u001b[0m\u001b[0;34m]\u001b[0m\u001b[0;34m)\u001b[0m\u001b[0;34m\u001b[0m\u001b[0;34m\u001b[0m\u001b[0m\n\u001b[1;32m      5\u001b[0m    \u001b[0mpatients_dict\u001b[0m\u001b[0;34m[\u001b[0m\u001b[0;34m\"TEXT\"\u001b[0m\u001b[0;34m]\u001b[0m\u001b[0;34m.\u001b[0m\u001b[0mappend\u001b[0m\u001b[0;34m(\u001b[0m\u001b[0mnoteevents_df\u001b[0m\u001b[0;34m.\u001b[0m\u001b[0mloc\u001b[0m\u001b[0;34m[\u001b[0m\u001b[0mi\u001b[0m\u001b[0;34m,\u001b[0m \u001b[0;34m'TEXT'\u001b[0m\u001b[0;34m]\u001b[0m\u001b[0;34m)\u001b[0m\u001b[0;34m\u001b[0m\u001b[0;34m\u001b[0m\u001b[0m\n",
            "\u001b[0;31mNameError\u001b[0m: name 'noteevents_df' is not defined"
          ]
        }
      ]
    },
    {
      "cell_type": "code",
      "metadata": {
        "id": "EHKraa_eai0A"
      },
      "source": [],
      "execution_count": null,
      "outputs": []
    },
    {
      "cell_type": "code",
      "metadata": {
        "id": "2C7J3kVrFlVC"
      },
      "source": [
        "patients_df = pd.DataFrame(patients_dict)"
      ],
      "execution_count": null,
      "outputs": []
    },
    {
      "cell_type": "markdown",
      "metadata": {
        "id": "Jr-ElsfDCka6"
      },
      "source": [
        "# **Download the created datafram (whole or a part of it)**"
      ]
    },
    {
      "cell_type": "code",
      "metadata": {
        "id": "do7zvoEaAmC_"
      },
      "source": [
        "# to keep only certain (say for eg. 10) number of rows of a dataframe\n",
        "patients_df[:10]  # this will fetch the top 10 rows\n",
        "\n",
        "patients_df[-10:] # this will fetch the last 10 rows"
      ],
      "execution_count": null,
      "outputs": []
    },
    {
      "cell_type": "code",
      "metadata": {
        "id": "1HXZkeroF49u"
      },
      "source": [
        "#if you using Macbook or Linux based systems download the patients_df dataframe in .csv format\n",
        "patients_df.to_csv(r'ICD9-430_Patients_DischargeSummary.csv', index = False)\n",
        "# if you want to download only the top 10 of the patients_df dataframe rows as a csv file do the following\n",
        "patients_df[:10].to_csv(r'ICD9-430_Patients_DischargeSummary.csv', index = False)"
      ],
      "execution_count": null,
      "outputs": []
    },
    {
      "cell_type": "code",
      "metadata": {
        "id": "YXJ4PjwAAAvo",
        "colab": {
          "base_uri": "https://localhost:8080/",
          "height": 215
        },
        "outputId": "ab5f3b2f-56d7-4300-ea6d-98d568a6e9b9"
      },
      "source": [
        "#if you are using a Windows based system download the patients_df dataframe in excel format\n",
        "patients_df.to_excel(\"ICD9-430_Patients_DischargeSummary.xlsx\")\n",
        "# if you want to download only the top 10 of the patients_df dataframe rows as a csv file do the following\n",
        "patients_df[:10]to_excel(\"ICD9-430_Patients_DischargeSummary.xlsx\")"
      ],
      "execution_count": null,
      "outputs": [
        {
          "output_type": "error",
          "ename": "NameError",
          "evalue": "ignored",
          "traceback": [
            "\u001b[0;31m---------------------------------------------------------------------------\u001b[0m",
            "\u001b[0;31mNameError\u001b[0m                                 Traceback (most recent call last)",
            "\u001b[0;32m<ipython-input-2-38b9a97b43d3>\u001b[0m in \u001b[0;36m<module>\u001b[0;34m()\u001b[0m\n\u001b[1;32m      1\u001b[0m \u001b[0;31m#if you are using a Windows based system download the patients_df dataframe in excel format\u001b[0m\u001b[0;34m\u001b[0m\u001b[0;34m\u001b[0m\u001b[0;34m\u001b[0m\u001b[0m\n\u001b[0;32m----> 2\u001b[0;31m \u001b[0mpatients_df\u001b[0m\u001b[0;34m.\u001b[0m\u001b[0mto_excel\u001b[0m\u001b[0;34m(\u001b[0m\u001b[0;34m\"ICD9-430_Patients_DischargeSummary.xlsx\"\u001b[0m\u001b[0;34m)\u001b[0m\u001b[0;34m\u001b[0m\u001b[0;34m\u001b[0m\u001b[0m\n\u001b[0m\u001b[1;32m      3\u001b[0m \u001b[0;31m# if you want to download only the top 10 of the patients_df dataframe rows as a csv file do the following\u001b[0m\u001b[0;34m\u001b[0m\u001b[0;34m\u001b[0m\u001b[0;34m\u001b[0m\u001b[0m\n\u001b[1;32m      4\u001b[0m \u001b[0mpatients_df\u001b[0m\u001b[0;34m[\u001b[0m\u001b[0;34m:\u001b[0m\u001b[0;36m10\u001b[0m\u001b[0;34m]\u001b[0m\u001b[0;34m.\u001b[0m\u001b[0mto_excel\u001b[0m\u001b[0;34m(\u001b[0m\u001b[0;34m\"ICD9-430_Patients_DischargeSummary.xlsx\"\u001b[0m\u001b[0;34m)\u001b[0m\u001b[0;34m\u001b[0m\u001b[0;34m\u001b[0m\u001b[0m\n",
            "\u001b[0;31mNameError\u001b[0m: name 'patients_df' is not defined"
          ]
        }
      ]
    }
  ]
}